{
 "cells": [
  {
   "cell_type": "markdown",
   "metadata": {},
   "source": [
    "# Introduction\n",
    "\n",
    "Recently I did a coding challenge and was unable to complete a test to find where circles where intersecting. To be more specific I failed 3 of about 10 or 11 test cases and naturally I don't know what those cases where. This doc is going to walk through my approach and hopefully find what I did wrong."
   ]
  },
  {
   "cell_type": "markdown",
   "metadata": {},
   "source": [
    "## Origonal Answer\n",
    "\n",
    "The general approach of this was:\n",
    "\n",
    "1. Take an input of two string. These will be 3 numbers and will always be integers:\n",
    " 1. x cordinate\n",
    " 2. y cordinate\n",
    " 3. radius\n",
    "2. Obtain all x and y values from the center of the circle using the radius. The intent was for this to create a graph of all x and y axies for circle 1 (c1) and circle 2 (c2)\n",
    "3. Reading through the third step now it is obviously a mistake, but at the time it was not realized. The intent was to get the x and y axis along 180 degrees and 270 degrees. \n",
    " 1. This clearly was not done as (5, 5, 2) would return 180 = (-6, -7); 270 = (-6, -7). \n",
    " 2. It should have been 180: (4, 3) , 270:  (4, 3)\n",
    "4. Get the max and min x and y cordinates\n",
    "5. Compare the two circles by filtering against max and mins from the other circle.\n",
    "6. Return a 'YES' or 'NO' based on the instructions"
   ]
  },
  {
   "cell_type": "code",
   "execution_count": null,
   "metadata": {},
   "outputs": [],
   "source": [
    "input_str = raw_input()\n",
    "input_str2 = raw_input()\n",
    "circle_1 = [int(i.strip()) for i in input_str.split(' ')]\n",
    "circle_2 = [int(i.strip()) for i in input_str2.split(' ')]\n",
    "\n",
    "c1_x_vals = []\n",
    "c1_y_vals = []\n",
    "for i in xrange(0, circle_1[2] + 1):\n",
    "    c1_x_vals.append(circle_1[0] + i)\n",
    "    c1_y_vals.append(circle_1[1] + i)\n",
    "    \n",
    "c1_x_vals += [x * -1 for x in c1_x_vals]\n",
    "c1_y_vals += [x * -1 for x in c1_y_vals]\n",
    "\n",
    "c2_x_vals = []\n",
    "c2_y_vals = []\n",
    "for i in xrange(0, circle_2[2] + 1):\n",
    "    c2_x_vals.append(circle_2[0] + i)\n",
    "    c2_y_vals.append(circle_2[1] + i)\n",
    "c2_x_vals += [x * -1 for x in c2_x_vals]\n",
    "c2_y_vals += [x * -1 for x in c2_y_vals]\n",
    "\n",
    "c1_x_max = max(c1_x_vals)\n",
    "c1_x_min = min(c1_x_vals)\n",
    "c1_y_max = max(c1_y_vals)\n",
    "c1_y_min = min(c1_y_vals)\n",
    "c2_x_max = max(c2_x_vals)\n",
    "c2_x_min = min(c2_x_vals)\n",
    "c2_y_max = max(c2_y_vals)\n",
    "c2_y_min = min(c2_y_vals)\n",
    "\n",
    "c2_x = filter(lambda x: x < c1_x_max and x > c1_x_min, c2_x_vals)\n",
    "c2_y = filter(lambda x: x < c1_y_max and x > c1_y_min, c2_y_vals)\n",
    "c1_x = filter(lambda x: x < c2_x_max and x > c2_x_min, c1_x_vals)\n",
    "c1_y = filter(lambda x: x < c2_y_max and x > c2_y_min, c1_y_vals)\n",
    "if (len(c1_x) > 1 and len(c1_y) > 1) or (len(c2_x) > 1 and len(c2_y) > 1):\n",
    "    print 'YES'\n",
    "else:\n",
    "    print 'NO'\n"
   ]
  },
  {
   "cell_type": "code",
   "execution_count": null,
   "metadata": {},
   "outputs": [],
   "source": [
    "def original_answer(input_str=None, input_str2=None, debug=True):\n",
    "    if not input_str:\n",
    "        input_str = raw_input()\n",
    "    if not input_str2:\n",
    "        input_str2 = raw_input()\n",
    "    \n",
    "    circle_1 = [int(i.strip()) for i in input_str.split(' ')]\n",
    "    circle_2 = [int(i.strip()) for i in input_str2.split(' ')]\n",
    "    \n",
    "    # this was not in the origonal code, but is added after the fact to make this\n",
    "    # function execute all tests\n",
    "    if circle_1[2] < 0 or circle_2[2] <0:\n",
    "        print 'Less than 0 radius'\n",
    "        return\n",
    "\n",
    "    c1_x_vals = []\n",
    "    c1_y_vals = []\n",
    "    for i in xrange(0, circle_1[2] + 1):\n",
    "        c1_x_vals.append(circle_1[0] + i)\n",
    "        c1_y_vals.append(circle_1[1] + i)\n",
    "\n",
    "    c1_x_vals += [x * -1 for x in c1_x_vals]\n",
    "    c1_y_vals += [x * -1 for x in c1_y_vals]\n",
    "\n",
    "    if debug:\n",
    "        print 'c1 values:', c1_x_vals, c1_y_vals\n",
    "    \n",
    "    c2_x_vals = []\n",
    "    c2_y_vals = []\n",
    "    for i in xrange(0, circle_2[2] + 1):\n",
    "        c2_x_vals.append(circle_2[0] + i)\n",
    "        c2_y_vals.append(circle_2[1] + i)\n",
    "    c2_x_vals += [x * -1 for x in c2_x_vals]\n",
    "    c2_y_vals += [x * -1 for x in c2_y_vals]\n",
    "    \n",
    "    if debug:\n",
    "        print 'c2 values:', c2_x_vals, c2_y_vals\n",
    "\n",
    "    c1_x_max = max(c1_x_vals)\n",
    "    c1_x_min = min(c1_x_vals)\n",
    "    c1_y_max = max(c1_y_vals)\n",
    "    c1_y_min = min(c1_y_vals)\n",
    "    c2_x_max = max(c2_x_vals)\n",
    "    c2_x_min = min(c2_x_vals)\n",
    "    c2_y_max = max(c2_y_vals)\n",
    "    c2_y_min = min(c2_y_vals)\n",
    "\n",
    "    c2_x = filter(lambda x: x < c1_x_max and x > c1_x_min, c2_x_vals)\n",
    "    c2_y = filter(lambda x: x < c1_y_max and x > c1_y_min, c2_y_vals)\n",
    "    c1_x = filter(lambda x: x < c2_x_max and x > c2_x_min, c1_x_vals)\n",
    "    c1_y = filter(lambda x: x < c2_y_max and x > c2_y_min, c1_y_vals)\n",
    "    if (len(c1_x) > 1 and len(c1_y) > 1) or (len(c2_x) > 1 and len(c2_y) > 1):\n",
    "        print 'YES'\n",
    "    else:\n",
    "        print 'NO'"
   ]
  },
  {
   "cell_type": "code",
   "execution_count": null,
   "metadata": {},
   "outputs": [],
   "source": [
    "original_answer('0 0 1', '0 0 2')\n",
    "original_answer('5 5 1', '0 0 2')\n",
    "original_answer('5 5 1', '4 4 2')\n",
    "original_answer('10 10 1', '5 5 2')\n",
    "original_answer('10 10 3', '5 5 2')\n",
    "original_answer('3 3 1', '13 13 2')"
   ]
  },
  {
   "cell_type": "markdown",
   "metadata": {},
   "source": [
    "## Fix the problem, then optimize (Revision 1)\n",
    "\n",
    "First thing's first - let's remove lines like `[x * -1 for x in c1_x_vals]`"
   ]
  },
  {
   "cell_type": "code",
   "execution_count": null,
   "metadata": {},
   "outputs": [],
   "source": [
    "def answer_rev1(input_str=None, input_str2=None, debug=True):\n",
    "    if not input_str:\n",
    "        input_str = raw_input()\n",
    "    if not input_str2:\n",
    "        input_str2 = raw_input()\n",
    "    \n",
    "    circle_1 = [int(i.strip()) for i in input_str.split(' ')]\n",
    "    circle_2 = [int(i.strip()) for i in input_str2.split(' ')]\n",
    "\n",
    "    if circle_1[2] < 0 or circle_2[2] <0:\n",
    "        print 'Less than 0 radius'\n",
    "        return\n",
    "    \n",
    "    c1_x_vals = []\n",
    "    c1_y_vals = []\n",
    "    for i in xrange(0, circle_1[2] + 1):\n",
    "        c1_x_vals.append(circle_1[0] + i)\n",
    "        c1_y_vals.append(circle_1[1] + i)\n",
    "        c1_x_vals.append(circle_1[0] - i)\n",
    "        c1_y_vals.append(circle_1[1] - i)\n",
    "\n",
    "#     c1_x_vals += [x * -1 for x in c1_x_vals]\n",
    "#     c1_y_vals += [x * -1 for x in c1_y_vals]\n",
    "\n",
    "    if debug:\n",
    "        print 'c1 values:', c1_x_vals, c1_y_vals\n",
    "    \n",
    "    c2_x_vals = []\n",
    "    c2_y_vals = []\n",
    "    for i in xrange(0, circle_2[2] + 1):\n",
    "        c2_x_vals.append(circle_2[0] + i)\n",
    "        c2_y_vals.append(circle_2[1] + i)\n",
    "        c2_x_vals.append(circle_2[0] - i)\n",
    "        c2_y_vals.append(circle_2[1] - i)\n",
    "#     c2_x_vals += [x * -1 for x in c2_x_vals]\n",
    "#     c2_y_vals += [x * -1 for x in c2_y_vals]\n",
    "    \n",
    "    if debug:\n",
    "        print 'c2 values:', c2_x_vals, c2_y_vals\n",
    "\n",
    "    c1_x_max = max(c1_x_vals)\n",
    "    c1_x_min = min(c1_x_vals)\n",
    "    c1_y_max = max(c1_y_vals)\n",
    "    c1_y_min = min(c1_y_vals)\n",
    "    c2_x_max = max(c2_x_vals)\n",
    "    c2_x_min = min(c2_x_vals)\n",
    "    c2_y_max = max(c2_y_vals)\n",
    "    c2_y_min = min(c2_y_vals)\n",
    "\n",
    "    c2_x = filter(lambda x: x < c1_x_max and x > c1_x_min, c2_x_vals)\n",
    "    c2_y = filter(lambda x: x < c1_y_max and x > c1_y_min, c2_y_vals)\n",
    "    c1_x = filter(lambda x: x < c2_x_max and x > c2_x_min, c1_x_vals)\n",
    "    c1_y = filter(lambda x: x < c2_y_max and x > c2_y_min, c1_y_vals)\n",
    "    if (len(c1_x) > 1 and len(c1_y) > 1) or (len(c2_x) > 1 and len(c2_y) > 1):\n",
    "        print 'YES'\n",
    "    else:\n",
    "        print 'NO'"
   ]
  },
  {
   "cell_type": "code",
   "execution_count": null,
   "metadata": {},
   "outputs": [],
   "source": [
    "answer_rev1('0 0 1', '0 0 2')\n",
    "answer_rev1('5 5 1', '0 0 2')\n",
    "answer_rev1('5 5 1', '4 4 2')\n",
    "answer_rev1('10 10 1', '5 5 2')\n",
    "answer_rev1('10 10 3', '5 5 2')\n",
    "answer_rev1('3 3 1', '13 13 2')"
   ]
  },
  {
   "cell_type": "markdown",
   "metadata": {},
   "source": [
    "## Revision 2 \n",
    "\n",
    "In the origonal answer (rev 0) and rev1 I was including a lot of unnecessary code that with a large circle could become expensive. What I really needed where vectors around the max and min cordinates at 0, 90, 180, and 270 degrees. I did that with the following variables:\n",
    "\n",
    "* c1_x_max\n",
    "* c1_x_min\n",
    "* c1_y_max\n",
    "* c1_y_min\n",
    "* c2_x_max\n",
    "* c2_x_min\n",
    "* c2_y_max\n",
    "* c2_y_min\n",
    "\n",
    "Next I continued to use `filter` only I used `xrange(axis_min, axis_max + 1)` object\n",
    "\n",
    "Finally, I realized that I did not account for circles that were touching one another on the edge (`answer_rev2('10 10 3', '5 5 2')`). This was fixed in two places:\n",
    "\n",
    "1. modifying my `filter` statements to be `>=` and `<=` as opposed to `>` & `<`\n",
    "2. modifying the final conditional to check for a list length of > 0 (`len(_list) >0`) as opposed to `len(_list) > 1`\n",
    "\n",
    "The two other above and beyond things that I could do are:\n",
    "\n",
    "1. Make getting the max and min values for x and y cordinates it's own function ... potentially include the filter statements as well. There is a lot of copy and pasted code.\n",
    "2. Make a circle class and each circle it's own object. Then determine if the circles interact with one another. That does not make a lot of sense in this instance, but if you created a bunch of circles it could simplify your code significantly"
   ]
  },
  {
   "cell_type": "code",
   "execution_count": null,
   "metadata": {},
   "outputs": [],
   "source": [
    "def answer_rev2(input_str=None, input_str2=None, debug=True):\n",
    "    if not input_str:\n",
    "        input_str = raw_input()\n",
    "    if not input_str2:\n",
    "        input_str2 = raw_input()\n",
    "    \n",
    "    circle_1 = [int(i.strip()) for i in input_str.split(' ')]\n",
    "    circle_2 = [int(i.strip()) for i in input_str2.split(' ')]\n",
    "\n",
    "    c1_x_max = circle_1[0] + abs(circle_1[2])\n",
    "    c1_x_min = circle_1[0] - abs(circle_1[2])\n",
    "    c1_y_max = circle_1[1] + abs(circle_1[2])\n",
    "    c1_y_min = circle_1[1] - abs(circle_1[2])\n",
    "    c2_x_max = circle_2[0] + abs(circle_2[2])\n",
    "    c2_x_min = circle_2[0] - abs(circle_2[2])\n",
    "    c2_y_max = circle_2[1] + abs(circle_2[2])\n",
    "    c2_y_min = circle_2[1] - abs(circle_2[2])\n",
    "\n",
    "    c2_x = filter(lambda x: x <= c1_x_max and x >= c1_x_min, xrange(c2_x_min, c2_x_max + 1))\n",
    "    c2_y = filter(lambda x: x <= c1_y_max and x >= c1_y_min, xrange(c2_y_min, c2_y_max + 1))\n",
    "    c1_x = filter(lambda x: x <= c2_x_max and x >= c2_x_min, xrange(c1_x_min, c1_x_max + 1))\n",
    "    c1_y = filter(lambda x: x <= c2_y_max and x >= c2_y_min, xrange(c1_y_min, c1_y_max + 1))\n",
    "    \n",
    "    if debug:\n",
    "        print '{} | {} \\n'.format(input_str, input_str2)\n",
    "        print c2_x, sorted(range(c2_x_min, c2_x_max + 1))\n",
    "        print c2_y, sorted(range(c2_y_min, c2_y_max + 1))\n",
    "        print c1_x, sorted(range(c1_x_min, c1_x_max + 1))\n",
    "        print c1_y, sorted(range(c1_y_min, c1_y_max + 1))\n",
    "    \n",
    "    if (len(c1_x) > 0 and len(c1_y) > 0) or (len(c2_x) > 0 and len(c2_y) > 0):\n",
    "        print 'YES'\n",
    "    else:\n",
    "        print 'NO'"
   ]
  },
  {
   "cell_type": "code",
   "execution_count": null,
   "metadata": {},
   "outputs": [],
   "source": [
    "answer_rev2('0 0 1', '0 0 2')\n",
    "answer_rev2('5 5 1', '0 0 2')\n",
    "answer_rev2('5 5 1', '4 4 2')\n",
    "answer_rev2('10 10 1', '5 5 2')\n",
    "answer_rev2('10 10 3', '5 5 2')\n",
    "answer_rev2('3 3 1', '13 13 2')"
   ]
  },
  {
   "cell_type": "markdown",
   "metadata": {},
   "source": [
    "## Wrapping up\n",
    "\n",
    "I wanted to show a progression from rev0 (the original answer) to rev1, and then rev2. I also wanted to add additional tests using negative values on the x, y, and radius inputs.\n",
    "\n",
    "I also wanted to use something like matlibplot to actually graph these circles, but for this interation I am working off of Jupyter Lab (as opposed to Notebook) and the method for getting images to show up is different and I have already probably put too much into this."
   ]
  },
  {
   "cell_type": "code",
   "execution_count": null,
   "metadata": {},
   "outputs": [],
   "source": [
    "def answer_rev0(*args):\n",
    "    original_answer(*args)"
   ]
  },
  {
   "cell_type": "code",
   "execution_count": null,
   "metadata": {},
   "outputs": [],
   "source": [
    "# def test(t1, t2, expected_value):\n",
    "#     print '\\n\\n{} | {}'.format(t1, t2)\n",
    "#     print 'rev 0: {}'.format(answer_rev0(t1, t2, False))\n",
    "#     print 'rev 1: {}'.format(answer_rev1(t1, t2, False))\n",
    "#     print 'rev 2: {}'.format(answer_rev2(t1, t2, False))\n",
    "\n",
    "def test(t1, t2, expected_value):\n",
    "    print '\\n\\n{} | {} | {}'.format(t1, t2, expected_value)\n",
    "    print '-------------------'\n",
    "    print 'rev 0:'\n",
    "    answer_rev0(t1, t2, False)\n",
    "    print 'rev 1:'\n",
    "    answer_rev1(t1, t2, False)\n",
    "    print 'rev 2:'\n",
    "    answer_rev2(t1, t2, False)"
   ]
  },
  {
   "cell_type": "code",
   "execution_count": null,
   "metadata": {},
   "outputs": [],
   "source": [
    "tests = (('0 0 1', '0 0 2', 'YES'), ('5 5 1', '0 0 2', 'NO'), ('5 5 1',  '4 4 2', 'YES'), ('10 10 1', '5 5 2', 'NO'), ('10 10 3', '5 5 2', 'YES'), ('3 3 1', '13 13 2', 'NO'))\n",
    "additional_tests = (('-5 -5 2', '-5 -5 1', 'YES'), ('-5 -5 2', '5 5 2', 'NO'), ('1 1 -1', '1 1 1', 'YES'), ('2 2 2', '2 2 2', 'YES'), ('-10 -10 -2', '-6 -6 -2', 'YES'))\n",
    "for t in tests:\n",
    "    test(*t)\n",
    "    \n",
    "print 'Additional tests ....'\n",
    "\n",
    "for t in additional_tests:\n",
    "    test(*t)"
   ]
  },
  {
   "cell_type": "markdown",
   "metadata": {},
   "source": [
    "## Revision 3\n",
    "\n",
    "I took a look at the last answer and as I conceptualized it in my head (and actually plotted the circles), realized that it was incorrect. I believe that this should be the last correct answer.\n",
    "\n",
    "I refrenced this page: http://www.ambrsoft.com/TrigoCalc/Circles2/circle2intersection/CircleCircleIntersection.htm"
   ]
  },
  {
   "cell_type": "code",
   "execution_count": null,
   "metadata": {},
   "outputs": [],
   "source": [
    "import math"
   ]
  },
  {
   "cell_type": "code",
   "execution_count": null,
   "metadata": {},
   "outputs": [],
   "source": [
    "def answer_rev3(input_str=None, input_str2=None, debug=True):\n",
    "    if not input_str:\n",
    "        input_str = raw_input()\n",
    "    if not input_str2:\n",
    "        input_str2 = raw_input()\n",
    "    \n",
    "    circle_1 = [int(i.strip()) for i in input_str.split(' ')]\n",
    "    circle_2 = [int(i.strip()) for i in input_str2.split(' ')]\n",
    "    \n",
    "    r1 = abs(circle_1[2])\n",
    "    r2 = abs(circle_2[2])\n",
    "    \n",
    "    distance = math.sqrt((circle_1[0] - circle_2[0])**2 + (circle_1[1] - circle_2[1])**2)\n",
    "    if distance < r1 + r2:\n",
    "        print 'YES'\n",
    "        return\n",
    "    elif distance == r1 + r2:\n",
    "        print 'YES'\n",
    "        return\n",
    "    print 'NO'\n",
    "    "
   ]
  },
  {
   "cell_type": "code",
   "execution_count": null,
   "metadata": {},
   "outputs": [],
   "source": [
    "# answer_rev3()"
   ]
  },
  {
   "cell_type": "code",
   "execution_count": null,
   "metadata": {},
   "outputs": [],
   "source": [
    "def test(t1, t2, expected_value):\n",
    "    print '\\n\\n{} | {} | {}'.format(t1, t2, expected_value)\n",
    "    print '-------------------'\n",
    "    print 'rev 0:'\n",
    "    answer_rev0(t1, t2, False)\n",
    "    print 'rev 1:'\n",
    "    answer_rev1(t1, t2, False)\n",
    "    print 'rev 2:'\n",
    "    answer_rev2(t1, t2, False)\n",
    "    print 'rev 3:'\n",
    "    answer_rev3(t1, t2, False)"
   ]
  },
  {
   "cell_type": "code",
   "execution_count": null,
   "metadata": {
    "scrolled": false
   },
   "outputs": [],
   "source": [
    "tests = (('0 0 1', '0 0 2', 'YES'), ('5 5 1', '0 0 2', 'NO'), ('5 5 1',  '4 4 2', 'YES'), ('10 10 1', '5 5 2', 'NO'), ('10 10 3', '5 5 2', 'YES'), ('3 3 1', '13 13 2', 'NO'))\n",
    "additional_tests = (('-5 -5 2', '-5 -5 1', 'YES'), ('-5 -5 2', '5 5 2', 'NO'), ('1 1 -1', '1 1 1', 'YES'), ('2 2 2', '2 2 2', 'YES'), ('-10 -10 -2', '-6 -6 -2', 'NO'), ('0 1 1', '0 3 1', 'YES'))\n",
    "for t in tests:\n",
    "    test(*t)\n",
    "    \n",
    "print 'Additional tests ....'\n",
    "\n",
    "for t in additional_tests:\n",
    "    test(*t)"
   ]
  },
  {
   "cell_type": "code",
   "execution_count": null,
   "metadata": {},
   "outputs": [],
   "source": []
  },
  {
   "cell_type": "code",
   "execution_count": null,
   "metadata": {},
   "outputs": [],
   "source": [
    "from IPython.core.display import display, HTML\n",
    "display(HTML(\"<style>.container { width:95% !important; }</style>\"))\n",
    "\n",
    "\n",
    "%matplotlib inline\n",
    "import matplotlib.pyplot as plt\n",
    "plt.rcParams[\"figure.figsize\"] = (5,5)\n",
    "from __future__ import unicode_literals"
   ]
  },
  {
   "cell_type": "code",
   "execution_count": null,
   "metadata": {},
   "outputs": [],
   "source": [
    "def plot_circles(x1, y1, r1, x2, y2, r2):\n",
    "    circle1 = plt.Circle((x1, y1), abs(r1), color='r')\n",
    "    circle2 = plt.Circle((x2, y2), abs(r2), color='blue')\n",
    "    # circle3 = plt.Circle((1, 1), 0.2, color='g', clip_on=False)\n",
    "\n",
    "    fig, ax = plt.subplots() # note we must use plt.subplots, not plt.subplot\n",
    "    # (or if you have an existing figure)\n",
    "    # fig = plt.gcf()\n",
    "    # ax = fig.gca()\n",
    "    ax.set_xlim(min([x1, x2]) - 1 - min([abs(r1), abs(r2)]) , max([x1, x2]) + 1 + max([abs(r1), abs(r2)]))\n",
    "    ax.set_ylim(min([y1, y2]) - 1 - min([abs(r1), abs(r2)]) , max([y1, y2]) + 1 + max([abs(r1), abs(r2)]))\n",
    "\n",
    "    ax.add_artist(circle1)\n",
    "    ax.add_artist(circle2)\n",
    "    # ax.add_artist(circle3)\n",
    "    plt.plot()"
   ]
  },
  {
   "cell_type": "code",
   "execution_count": null,
   "metadata": {
    "scrolled": false
   },
   "outputs": [],
   "source": [
    "for t in tests:\n",
    "    args = [int(x.strip()) for x in t[0].split(' ')] + [int(y.strip()) for y in t[1].split(' ')]\n",
    "    plot_circles(*args)"
   ]
  },
  {
   "cell_type": "code",
   "execution_count": null,
   "metadata": {},
   "outputs": [],
   "source": [
    "for t in additional_tests:\n",
    "    args = [int(x.strip()) for x in t[0].split(' ')] + [int(y.strip()) for y in t[1].split(' ')]\n",
    "    plot_circles(*args)"
   ]
  },
  {
   "cell_type": "code",
   "execution_count": null,
   "metadata": {},
   "outputs": [],
   "source": []
  },
  {
   "cell_type": "code",
   "execution_count": null,
   "metadata": {},
   "outputs": [],
   "source": []
  }
 ],
 "metadata": {
  "kernelspec": {
   "display_name": "Python 2",
   "language": "python",
   "name": "python2"
  },
  "language_info": {
   "codemirror_mode": {
    "name": "ipython",
    "version": 2
   },
   "file_extension": ".py",
   "mimetype": "text/x-python",
   "name": "python",
   "nbconvert_exporter": "python",
   "pygments_lexer": "ipython2",
   "version": "2.7.12"
  }
 },
 "nbformat": 4,
 "nbformat_minor": 2
}
